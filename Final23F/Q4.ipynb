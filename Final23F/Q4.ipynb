{
 "cells": [
  {
   "cell_type": "code",
   "execution_count": null,
   "metadata": {},
   "outputs": [],
   "source": [
    "import shadow.utils\n",
    "shadow.utils.set_seed(0, cudnn_deterministic=True)  # set seeds for reproducibility\n",
    "%matplotlib inline\n",
    "import matplotlib.pyplot as plt\n",
    "from sklearn import datasets\n",
    "\n",
    "n_samples = 1000  # number of samples to generate\n",
    "noise = 0.1  # noise to add to sample locations\n",
    "x, y = datasets.make_moons(n_samples=n_samples, noise=noise)\n",
    "\n",
    "plt.scatter(*x.T, c=y, cmap=plt.cm.Accent)\n",
    "plt.title(\"Generated half moons data\");"
   ]
  }
 ],
 "metadata": {
  "language_info": {
   "name": "python"
  }
 },
 "nbformat": 4,
 "nbformat_minor": 2
}
