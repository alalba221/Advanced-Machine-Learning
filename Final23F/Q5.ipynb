{
 "cells": [
  {
   "cell_type": "code",
   "execution_count": 17,
   "metadata": {},
   "outputs": [],
   "source": [
    "import numpy as np\n",
    "import matplotlib.pyplot as plt\n",
    "\n",
    "m = 10\n",
    "n = 3\n",
    "\n",
    "Y_0 = np.random.choice([0, 1], size=m , p=[.5, .5])\n",
    "Y_1 = np.array([y*2-1 for y in Y_0])\n",
    "\n",
    "X = np.random.rand(m,n)\n",
    "x0 = np.ones((m,1))\n",
    "\n",
    "X = np.hstack((x0,X))\n"
   ]
  },
  {
   "cell_type": "code",
   "execution_count": null,
   "metadata": {},
   "outputs": [],
   "source": [
    "def sigmoid(x):\n",
    "    x = np.array(x)\n",
    "    return 1. / (1. + np.exp(-x))\n",
    "\n",
    "\n",
    "def L(w, X, y):\n",
    "    dot = np.dot(X, w)\n",
    "    return np.mean(y * dot - np.log(1 + np.exp(dot)), axis=0)\n"
   ]
  }
 ],
 "metadata": {
  "kernelspec": {
   "display_name": "cpsc6420",
   "language": "python",
   "name": "python3"
  },
  "language_info": {
   "codemirror_mode": {
    "name": "ipython",
    "version": 3
   },
   "file_extension": ".py",
   "mimetype": "text/x-python",
   "name": "python",
   "nbconvert_exporter": "python",
   "pygments_lexer": "ipython3",
   "version": "3.11.5"
  }
 },
 "nbformat": 4,
 "nbformat_minor": 2
}
