{
 "cells": [
  {
   "cell_type": "code",
   "execution_count": 1,
   "metadata": {},
   "outputs": [],
   "source": [
    "import numpy as np\n",
    "import matplotlib.pyplot as plt\n",
    "\n",
    "m = 100\n",
    "n = 3\n",
    "\n",
    "y_0 = np.random.choice([0, 1], size=(m,1) , p=[.5, .5])\n",
    "y_1 = np.array([y*2-1 for y in y_0])\n",
    "\n",
    "I = np.ones((m,1))\n",
    "\n",
    "X = np.random.rand(m,n)\n",
    "\n",
    "x0 = np.ones((m,1))\n",
    "X = np.hstack((x0,X))\n",
    "\n",
    "\n",
    "\n",
    "def sigmoid(x):\n",
    "    return 1. / (1. + np.exp(-x))\n"
   ]
  },
  {
   "cell_type": "code",
   "execution_count": 2,
   "metadata": {},
   "outputs": [],
   "source": [
    "\n",
    "def L(w, X, y):\n",
    "    Xw =np.dot(X,w)\n",
    "    \n",
    "    YtXw = np.dot(np.transpose(y),Xw)\n",
    "\n",
    "    Delta = np.log(I+np.exp(Xw))\n",
    "\n",
    "    return np.sum(-YtXw+np.dot(np.transpose(I),Delta),axis=0)\n",
    " \n",
    "\n",
    "def dL(w, X, y):\n",
    "    Xw=np.dot(X,w)\n",
    "\n",
    "    distance = sigmoid(Xw)-y\n",
    "    \n",
    "    return np.dot(np.transpose(X),distance)\n",
    "\n",
    "\n",
    "\n",
    "def GD(w, X, y, epoch, lr):\n",
    "    l_list = []\n",
    "    for i in range(epoch):\n",
    "    \n",
    "        dw= dL(w,X, y)\n",
    "        w -= lr * dw\n",
    "        l =  L(w, X, y)\n",
    "\n",
    "        l_list = np.append(l_list,l)\n",
    "    return w, l_list\n",
    "\n"
   ]
  },
  {
   "cell_type": "code",
   "execution_count": 3,
   "metadata": {},
   "outputs": [],
   "source": [
    "def L1(w, X, y):\n",
    "    \n",
    "    n = X.shape[1]\n",
    "    \n",
    "    Y = np.tile(y,(1,n))\n",
    "    \n",
    "    YXW = np.dot(Y*X,w)\n",
    "\n",
    "    Delta = np.log(I + np.exp(-YXW))\n",
    "\n",
    "    return np.sum(np.dot(np.transpose(I),Delta),axis=0)\n",
    "\n",
    "def dL1(w, X, y):\n",
    "    \n",
    "    n = X.shape[1]\n",
    "    Y = np.tile(y,(1,n))\n",
    "    YXW = np.dot(Y*X,w)\n",
    "\n",
    "    Delta = I - sigmoid(YXW)\n",
    "    \n",
    "\n",
    "    return -np.dot(np.transpose(Y*X), Delta)\n",
    "    \n",
    "\n",
    "def GD1(w, X, y, epoch, lr):\n",
    "    l_list = []\n",
    "\n",
    "    for i in range(epoch):\n",
    "        dw= dL1(w,X, y)\n",
    "        w -= lr * dw\n",
    "        l =  L1(w, X, y)\n",
    "        l_list = np.append(l_list,l)\n",
    "    return w, l_list\n"
   ]
  },
  {
   "cell_type": "code",
   "execution_count": 4,
   "metadata": {},
   "outputs": [
    {
     "data": {
      "image/png": "[encoded data removed]",
      "text/plain": [
       "<Figure size 640x480 with 1 Axes>"
      ]
     },
     "metadata": {},
     "output_type": "display_data"
    }
   ],
   "source": [
    "w0 = np.zeros([n+1,1])\n",
    "w1 = np.zeros([n+1,1])\n",
    "\n",
    "ITER = 50000\n",
    "w0,L0_LIST = GD(w0,X,y_0,ITER,0.0001)\n",
    "w1,L1_LIST= GD1(w1,X,y_1,ITER,0.0001)\n",
    "\n",
    "\n",
    "iters = list(range(0,ITER))\n",
    "\n",
    "\n",
    "plt.plot(iters,L0_LIST, 'or' ,label = \"{0,1}\")\n",
    "plt.plot(iters,L1_LIST,'--'  ,label = \"{-1,1}\")\n",
    "plt.legend()\n",
    "plt.show()\n"
   ]
  },
  {
   "cell_type": "code",
   "execution_count": 5,
   "metadata": {},
   "outputs": [
    {
     "name": "stdout",
     "output_type": "stream",
     "text": [
      "[[ 0.60350295]\n",
      " [-0.91921368]\n",
      " [-0.42886191]\n",
      " [-0.4635777 ]]\n",
      "[[ 0.60350295]\n",
      " [-0.91921368]\n",
      " [-0.42886191]\n",
      " [-0.4635777 ]]\n"
     ]
    }
   ],
   "source": [
    "print(w0)\n",
    "print(w1)"
   ]
  },
  {
   "cell_type": "code",
   "execution_count": 6,
   "metadata": {},
   "outputs": [],
   "source": [
    "### 4"
   ]
  },
  {
   "cell_type": "code",
   "execution_count": 12,
   "metadata": {},
   "outputs": [],
   "source": [
    "Xnew = X[(1,3),:][:]"
   ]
  },
  {
   "cell_type": "code",
   "execution_count": 17,
   "metadata": {},
   "outputs": [],
   "source": [
    "test = np.random.choice(range(100),size = 3,replace=False)"
   ]
  },
  {
   "cell_type": "code",
   "execution_count": 22,
   "metadata": {},
   "outputs": [
    {
     "data": {
      "text/plain": [
       "6.0"
      ]
     },
     "execution_count": 22,
     "metadata": {},
     "output_type": "execute_result"
    }
   ],
   "source": [
    "X.shape[0]\n",
    "aa = np.array([[-1],[2],[3]])\n",
    "aanorm = np.linalg.norm(aa,1)\n",
    "aanorm"
   ]
  }
 ],
 "metadata": {
  "kernelspec": {
   "display_name": "cpsc6420",
   "language": "python",
   "name": "python3"
  },
  "language_info": {
   "codemirror_mode": {
    "name": "ipython",
    "version": 3
   },
   "file_extension": ".py",
   "mimetype": "text/x-python",
   "name": "python",
   "nbconvert_exporter": "python",
   "pygments_lexer": "ipython3",
   "version": "3.11.5"
  }
 },
 "nbformat": 4,
 "nbformat_minor": 2
}
